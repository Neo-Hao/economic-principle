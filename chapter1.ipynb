{
 "cells": [
  {
   "cell_type": "markdown",
   "metadata": {},
   "source": [
    "### How economy is modeled\n",
    "\n",
    "![Model of the economy](img/model.png \"Model\")"
   ]
  },
  {
   "cell_type": "markdown",
   "metadata": {},
   "source": [
    "### Highlights of the model\n",
    "\n",
    "The above model is different from traditional economic models in two major different ways:\n",
    "\n",
    "1. Supply and demand are measured in quantity and the price relationship between them is described in terms of elasticity.\n",
    "2. Spending can come from two forms: either money or credit.\n",
    "\n",
    "The dynamics of the model can be summarized as:\n",
    "\n",
    "* All price changes are due ot changes in amounts of the items and amounts of money/credit spent on them. Changes in buying typically have a much bigger impact than changes in selling on the economy, given that the supply of money/credit is the easiest to change.\n",
    "\n",
    "Buyers can be clustered into a few groups for better understanding:\n",
    "\n",
    "* The government sector\n",
    "  - The Central Bank\n",
    "  - The Federal Government\n",
    "* The private sector\n",
    "  - Households (domestic/foreign)\n",
    "  - Businesses (domestic/foriegn)"
   ]
  },
  {
   "cell_type": "markdown",
   "metadata": {},
   "source": [
    "### Why traditional models don't work well\n",
    "\n",
    "There are two major reasons why traditional economic models don't work well:\n",
    "\n",
    "1. Supply/demond are measured by quantity and the price is described as changing via what is called velocity. As such, no attention is paid to the spending (who/why/what/how).\n",
    "2. Velocity of money is misleading. Velocity of money refers to a concept how the amount of annual spending (GDP) could be paid for by a smaller amount of money. Instead,  much of the spending comes from creation of credit, and credit is just one way of spending.\n",
    "\n",
    "A good example that demonstrates the inefficiency of traditional models would be:\n",
    "\n",
    "Phenomenon: <i>A large increase in the amount of money is happening.</i>\n",
    "\n",
    "* Understanding using traditional models: This leads to inflation.\n",
    "* Understanding using the above model provided in Chapter 1: This doesn't necessarily lead to inflation. If there is a contraction of credit, the increase in money could be offset; if the credit contraction is significantly bigger, the spending will decline and prices will fall."
   ]
  },
  {
   "cell_type": "markdown",
   "metadata": {},
   "source": [
    "### How market system works\n",
    "\n",
    "Major economic players buy and sell both 1) goods and services, 2) financial assets, and they can pay for them with 1) money or 2) credit. While the amount of money is controlled by central governments, credit can be created out of thin air.\n",
    "\n",
    "When more credit is created than can be paid back, the market can go on for a while, but eventually bubble will burst. When bust happens, economic contractions will occur (i.e., there is not enough money and/or credit spent on goods, services and financial assets). Economic contraction typically occur for two reasons:\n",
    "\n",
    "* recession: short-term debt cycle\n",
    "* depressions: long-term debt cycle\n",
    "\n",
    "A short-term debt cycle arises from the rate o growth in spending being faster than the rate of growth in the capacity to produce. This difference will lead prices to inflation, which in turn will lead to central banks taking tight money policy. When the money and credit becomes tight, recession occurs. Recession will end when central banks lower interest rates to stimulate demand for goods, services and credit growth that finances these purchases.\n",
    "\n",
    "A long-term debt cycle arises from debts rising faster than both incomes and money until this can't continue. At this point the debt service costs become too much to bear, and the interest rate can't be reduced any more. A deleveraging is the process of reducing debt burdens by 1) debt reduction, 2) austerity, 3) redistributions of wealth, and 4) debt monetization. Deleveraging may but not necessarily always lead to depression. When handled properly, depression will not happen.\n",
    "\n",
    "It is worth noting that governments play important roles in short-term and long-term debt cycles. One of the greatest power governments have is the creation of money and credits.\n"
   ]
  }
 ],
 "metadata": {
  "kernelspec": {
   "display_name": "Python 3",
   "language": "python",
   "name": "python3"
  },
  "language_info": {
   "codemirror_mode": {
    "name": "ipython",
    "version": 3
   },
   "file_extension": ".py",
   "mimetype": "text/x-python",
   "name": "python",
   "nbconvert_exporter": "python",
   "pygments_lexer": "ipython3",
   "version": "3.6.1"
  }
 },
 "nbformat": 4,
 "nbformat_minor": 2
}
