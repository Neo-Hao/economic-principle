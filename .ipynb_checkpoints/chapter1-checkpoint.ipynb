{
 "cells": [
  {
   "cell_type": "markdown",
   "metadata": {},
   "source": [
    "### How economy is modeled\n",
    "\n",
    "![Model of the economy](img/model.png \"Model\")"
   ]
  },
  {
   "cell_type": "markdown",
   "metadata": {},
   "source": [
    "### Highlights of the model\n",
    "\n",
    "The above model is different from traditional economic models in two major different ways:\n",
    "\n",
    "1. Supply and demand are measured in quantity and the price relationship between them is described in terms of elasticity.\n",
    "2. Spending can come from two forms: either money or credit.\n",
    "\n",
    "The dynamics of the model can be summarized as:\n",
    "\n",
    "* All price changes are due ot changes in amounts of the items and amounts of money/credit spent on them. Changes in buying typically have a much bigger impact than changes in selling on the economy, given that the supply of money/credit is the easiest to change.\n",
    "\n",
    "Buyers can be clustered into a few groups for better understanding:\n",
    "\n",
    "* The government sector\n",
    "  - The Central Bank\n",
    "  - The Federal Government\n",
    "* The private sector\n",
    "  - Households (domestic/foreign)\n",
    "  - Businesses (domestic/foriegn)"
   ]
  },
  {
   "cell_type": "markdown",
   "metadata": {},
   "source": [
    "### Why traditional models don't work well\n",
    "\n",
    "There are two major reasons why traditional economic models don't work well:\n",
    "\n",
    "1. Supply/demond are measured by quantity and the price is described as changing via what is called velocity. As such, no attention is paid to the spending (who/why/what/how).\n",
    "2. Velocity of money is misleading. Velocity of money refers to a concept how the amount of annual spending (GDP) could be paid for by a smaller amount of money. Instead,  much of the spending comes from creation of credit, and credit is just one way of spending.\n",
    "\n",
    "A good example that demonstrates the inefficiency of traditional models would be:\n",
    "\n",
    "Phenomenon: <i>A large increase in the amount of money is happening.</i>\n",
    "\n",
    "* Understanding using traditional models: This leads to inflation.\n",
    "* Understanding using the above model provided in Chapter 1: This doesn't necessarily lead to inflation. If there is a contraction of credit, the increase in money could be offset; if the credit contraction is significantly bigger, the spending will decline and prices will fall."
   ]
  }
 ],
 "metadata": {
  "kernelspec": {
   "display_name": "Python 3",
   "language": "python",
   "name": "python3"
  },
  "language_info": {
   "codemirror_mode": {
    "name": "ipython",
    "version": 3
   },
   "file_extension": ".py",
   "mimetype": "text/x-python",
   "name": "python",
   "nbconvert_exporter": "python",
   "pygments_lexer": "ipython3",
   "version": "3.6.1"
  }
 },
 "nbformat": 4,
 "nbformat_minor": 2
}
